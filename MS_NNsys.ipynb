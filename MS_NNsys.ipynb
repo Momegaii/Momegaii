{
  "nbformat": 4,
  "nbformat_minor": 0,
  "metadata": {
    "colab": {
      "provenance": [],
      "authorship_tag": "ABX9TyO/mHn01YfoBIJ/KI5S7zXm",
      "include_colab_link": true
    },
    "kernelspec": {
      "name": "python3",
      "display_name": "Python 3"
    },
    "language_info": {
      "name": "python"
    }
  },
  "cells": [
    {
      "cell_type": "markdown",
      "metadata": {
        "id": "view-in-github",
        "colab_type": "text"
      },
      "source": [
        "<a href=\"https://colab.research.google.com/github/Momegaii/Momegaii/blob/main/MS_NNsys.ipynb\" target=\"_parent\"><img src=\"https://colab.research.google.com/assets/colab-badge.svg\" alt=\"Open In Colab\"/></a>"
      ]
    },
    {
      "cell_type": "markdown",
      "source": [
        "# Arrays is all."
      ],
      "metadata": {
        "id": "Xpn8pucMn5Vq"
      }
    },
    {
      "cell_type": "markdown",
      "source": [
        "In computer the word compute means the calculation of somthing what is the somthing ?"
      ],
      "metadata": {
        "id": "TvtwLR2ioAWq"
      }
    },
    {
      "cell_type": "code",
      "execution_count": null,
      "metadata": {
        "id": "L1TEZu7WmV2r"
      },
      "outputs": [],
      "source": [
        "arr = [1, 2, 3, 4]  # A 1D array of 4 elements"
      ]
    },
    {
      "cell_type": "markdown",
      "source": [
        "every array have **deminsion**"
      ],
      "metadata": {
        "id": "unXqP3gXoSVZ"
      }
    },
    {
      "cell_type": "markdown",
      "source": [
        "1D array: Single line — [1, 2, 3]\n",
        "\n",
        "2D array: Table — [[1, 2], [3, 4]]\n",
        "\n",
        "3D array: Cube — [[[1,2],[3,4]], [[5,6],[7,8]]]\n",
        "\n",
        "ND arrays: Higher dimensions (used in tensors, NNs)"
      ],
      "metadata": {
        "id": "X6rpQAE_oZnA"
      }
    },
    {
      "cell_type": "markdown",
      "source": [
        "so again the numbers is how the computer understand and think.\n",
        "\n",
        "so there is an image when you think what you can imagine is 3d only.\n",
        "\n",
        "the computer can think of more deminsions.\n",
        "\n",
        "more than we can achieve"
      ],
      "metadata": {
        "id": "R1HiVyXYoisp"
      }
    },
    {
      "cell_type": "markdown",
      "source": [
        "But what is nice about that with all this power of thinking we are who created this.\n",
        "\n",
        "we are the supevisors of how this operate."
      ],
      "metadata": {
        "id": "WpzmKSzSo_RB"
      }
    },
    {
      "cell_type": "markdown",
      "source": [
        "**BASICS OF ARRAYS**"
      ],
      "metadata": {
        "id": "fdaeJPAIp4Qf"
      }
    },
    {
      "cell_type": "markdown",
      "source": [
        "arr[0] indexing is the way to find a column and a row"
      ],
      "metadata": {
        "id": "VmUAbIBhpYEy"
      }
    },
    {
      "cell_type": "markdown",
      "source": [
        "slicing arr[1:3] #0,1,2"
      ],
      "metadata": {
        "id": "HsKgADoBp9DE"
      }
    },
    {
      "cell_type": "markdown",
      "source": [
        "itaration (looping)"
      ],
      "metadata": {
        "id": "_-19Rx2xqG7Y"
      }
    },
    {
      "cell_type": "code",
      "source": [
        "len(arr) #the length of the array"
      ],
      "metadata": {
        "colab": {
          "base_uri": "https://localhost:8080/"
        },
        "id": "4wVeT0ByqKpZ",
        "outputId": "4d02e36d-bfca-4c4e-969a-6b3462421a6a"
      },
      "execution_count": null,
      "outputs": [
        {
          "output_type": "execute_result",
          "data": {
            "text/plain": [
              "4"
            ]
          },
          "metadata": {},
          "execution_count": 2
        }
      ]
    },
    {
      "cell_type": "code",
      "source": [
        "import numpy as np\n",
        "\n",
        "arr.shape() #for more demisions more than 1D."
      ],
      "metadata": {
        "colab": {
          "base_uri": "https://localhost:8080/",
          "height": 176
        },
        "collapsed": true,
        "id": "7jUZN42tqbMI",
        "outputId": "39bb0a34-bd8e-465c-c5ff-99b130e30c69"
      },
      "execution_count": null,
      "outputs": [
        {
          "output_type": "error",
          "ename": "AttributeError",
          "evalue": "'list' object has no attribute 'shape'",
          "traceback": [
            "\u001b[0;31m---------------------------------------------------------------------------\u001b[0m",
            "\u001b[0;31mAttributeError\u001b[0m                            Traceback (most recent call last)",
            "\u001b[0;32m<ipython-input-5-0f95216ab8e4>\u001b[0m in \u001b[0;36m<cell line: 0>\u001b[0;34m()\u001b[0m\n\u001b[1;32m      1\u001b[0m \u001b[0;32mimport\u001b[0m \u001b[0mnumpy\u001b[0m \u001b[0;32mas\u001b[0m \u001b[0mnp\u001b[0m\u001b[0;34m\u001b[0m\u001b[0;34m\u001b[0m\u001b[0m\n\u001b[1;32m      2\u001b[0m \u001b[0;34m\u001b[0m\u001b[0m\n\u001b[0;32m----> 3\u001b[0;31m \u001b[0marr\u001b[0m\u001b[0;34m.\u001b[0m\u001b[0mshape\u001b[0m\u001b[0;34m(\u001b[0m\u001b[0;34m)\u001b[0m \u001b[0;31m#for more demisions more than 1D.\u001b[0m\u001b[0;34m\u001b[0m\u001b[0;34m\u001b[0m\u001b[0m\n\u001b[0m",
            "\u001b[0;31mAttributeError\u001b[0m: 'list' object has no attribute 'shape'"
          ]
        }
      ]
    },
    {
      "cell_type": "markdown",
      "source": [
        "Memory layouts in arrays\n"
      ],
      "metadata": {
        "id": "N9n2IRw_q--x"
      }
    },
    {
      "cell_type": "markdown",
      "source": [
        "arrays are stored in contiguous memory locations"
      ],
      "metadata": {
        "id": "0wqOVwHwrD4S"
      }
    },
    {
      "cell_type": "markdown",
      "source": [
        "in memory the arrays have addresses\n",
        "and these addresses have values the values are the same values as we know them arr = 1 2 3."
      ],
      "metadata": {
        "id": "gnwYzj_2rZDB"
      }
    },
    {
      "cell_type": "markdown",
      "source": [
        "**arrays arithmetic**"
      ],
      "metadata": {
        "id": "lMbde73Httnq"
      }
    },
    {
      "cell_type": "code",
      "source": [
        "arr1 = [1, 2, 3]\n",
        "arr2 = [4, 5, 6]\n",
        "arr3= [arr1[i]+ arr2[i] for i in range(3)]\n",
        "\n",
        "print(arr3)"
      ],
      "metadata": {
        "colab": {
          "base_uri": "https://localhost:8080/"
        },
        "id": "TmTbCgC9t40S",
        "outputId": "c38225f7-a8ee-4ba4-b685-e26d4ff37fa7"
      },
      "execution_count": null,
      "outputs": [
        {
          "output_type": "stream",
          "name": "stdout",
          "text": [
            "[5, 7, 9]\n"
          ]
        }
      ]
    },
    {
      "cell_type": "markdown",
      "source": [
        "# Matrix multiplication (2d arrays)"
      ],
      "metadata": {
        "id": "wYSVTUDNuNe8"
      }
    },
    {
      "cell_type": "markdown",
      "source": [
        "the matrix multiplication is the foundation of all nns"
      ],
      "metadata": {
        "id": "gn9aWTvAuZSw"
      }
    },
    {
      "cell_type": "markdown",
      "source": [
        "dot product formula:\n",
        "\n",
        "\n",
        "d1 : _________________, d2:_______________\n",
        "a1*b1 + a2 * b2 , a3 * b3 + a4 + b4"
      ],
      "metadata": {
        "id": "gi5iLWIPvIwQ"
      }
    },
    {
      "cell_type": "code",
      "source": [
        "# Dot product\n",
        "A = [[1, 2],\n",
        "     [3, 4]]\n",
        "B = [[5, 6],\n",
        "     [7, 8]]\n",
        "\n",
        "result = [\n",
        "  [1*5 + 2*7, 1*6 + 2*8],\n",
        "  [3*5 + 4*7, 3*6 + 4*8]\n",
        "]\n"
      ],
      "metadata": {
        "id": "j9YmFNtkuhhR"
      },
      "execution_count": null,
      "outputs": []
    },
    {
      "cell_type": "markdown",
      "source": [
        "# how pc understands arrays"
      ],
      "metadata": {
        "id": "ZcD7-T2dv4KJ"
      }
    },
    {
      "cell_type": "markdown",
      "source": [
        "Bit & Byte Level (Binary Representation)\n",
        "\n",
        "Memory (RAM and Pointers)\n",
        "\n",
        "CPU (Registers & Instructions)\n",
        "\n",
        "Low-level Code (e.g., Assembly/C)\n",
        "\n",
        "High-level Abstractions (Python/Numpy Arrays)"
      ],
      "metadata": {
        "id": "1Ms8hewqwJZ3"
      }
    },
    {
      "cell_type": "markdown",
      "source": [
        "**Binary represntation**"
      ],
      "metadata": {
        "id": "W1kmGcTVwUpH"
      }
    },
    {
      "cell_type": "markdown",
      "source": [
        "the computer only understands 0 1"
      ],
      "metadata": {
        "id": "__Anyo62waXX"
      }
    },
    {
      "cell_type": "markdown",
      "source": [
        "so the bit is 0 and the bit 1 form the number"
      ],
      "metadata": {
        "id": "AK4Q_RXKwls3"
      }
    },
    {
      "cell_type": "markdown",
      "source": [
        "1 -- 00000001\n",
        "2 -- 00000010\n",
        "3 -- 00000011\n",
        "4 -- 00000101"
      ],
      "metadata": {
        "id": "ne8xnR4rwtip"
      }
    },
    {
      "cell_type": "code",
      "source": [
        "in memory arrays ;\n",
        "\n",
        "addres   value    truenum\n",
        "1000     00000001    1\n",
        "1001     00000010    2"
      ],
      "metadata": {
        "collapsed": true,
        "colab": {
          "base_uri": "https://localhost:8080/",
          "height": 124
        },
        "id": "8-QngG-lxpUA",
        "outputId": "062e9912-4f14-4baa-e363-629a6b1683b9"
      },
      "execution_count": null,
      "outputs": [
        {
          "output_type": "error",
          "ename": "SyntaxError",
          "evalue": "leading zeros in decimal integer literals are not permitted; use an 0o prefix for octal integers (<ipython-input-9-6050a2d8ec98>, line 4)",
          "traceback": [
            "\u001b[0;36m  File \u001b[0;32m\"<ipython-input-9-6050a2d8ec98>\"\u001b[0;36m, line \u001b[0;32m4\u001b[0m\n\u001b[0;31m    1000     00000001    1\u001b[0m\n\u001b[0m             ^\u001b[0m\n\u001b[0;31mSyntaxError\u001b[0m\u001b[0;31m:\u001b[0m leading zeros in decimal integer literals are not permitted; use an 0o prefix for octal integers\n"
          ]
        }
      ]
    },
    {
      "cell_type": "markdown",
      "source": [],
      "metadata": {
        "id": "6alrGP9xYavI"
      }
    },
    {
      "cell_type": "markdown",
      "source": [
        "the arrays are fast so this is how the cpu understand it can make an offset"
      ],
      "metadata": {
        "id": "NiJ3NiJ3x27g"
      }
    },
    {
      "cell_type": "markdown",
      "source": [
        "the cpu with arrays is simple\n",
        "the cpu grab the arrays numbers by address from ram (memory)\n",
        "\n",
        "the instructions:\n",
        "\n",
        "MOV AX, [1000]  ; Load 1st element to register AX\n",
        "ADD AX, 2       ; Do math"
      ],
      "metadata": {
        "id": "RlUUBbHfx-Mi"
      }
    },
    {
      "cell_type": "markdown",
      "source": [
        "**Everything in array computation is just memory + binary + arithmetic + instructions.**"
      ],
      "metadata": {
        "id": "KoHNHULnyj3C"
      }
    },
    {
      "cell_type": "markdown",
      "source": [
        "from assembly to c to python"
      ],
      "metadata": {
        "id": "vByuPb5tym13"
      }
    },
    {
      "cell_type": "code",
      "source": [
        "MOV EAX, [arr]     ; load arr[0]\n",
        "ADD EAX, [arr+4]   ; add arr[1]"
      ],
      "metadata": {
        "collapsed": true,
        "colab": {
          "base_uri": "https://localhost:8080/",
          "height": 106
        },
        "id": "kqekSAX0ywB_",
        "outputId": "931800cd-f0f4-42ab-9946-a36dd9ecbc8d"
      },
      "execution_count": null,
      "outputs": [
        {
          "output_type": "error",
          "ename": "SyntaxError",
          "evalue": "invalid syntax (<ipython-input-10-c6fbc3771417>, line 1)",
          "traceback": [
            "\u001b[0;36m  File \u001b[0;32m\"<ipython-input-10-c6fbc3771417>\"\u001b[0;36m, line \u001b[0;32m1\u001b[0m\n\u001b[0;31m    MOV EAX, [arr]     ; load arr[0]\u001b[0m\n\u001b[0m        ^\u001b[0m\n\u001b[0;31mSyntaxError\u001b[0m\u001b[0;31m:\u001b[0m invalid syntax\n"
          ]
        }
      ]
    },
    {
      "cell_type": "code",
      "source": [
        "int arr[] = {1, 2, 3};\n",
        "int sum = arr[0] + arr[1];"
      ],
      "metadata": {
        "collapsed": true,
        "colab": {
          "base_uri": "https://localhost:8080/",
          "height": 106
        },
        "id": "vYF20Bl1yzy3",
        "outputId": "25958e6e-f84a-4eb9-deb8-9679c9a6ceb8"
      },
      "execution_count": null,
      "outputs": [
        {
          "output_type": "error",
          "ename": "SyntaxError",
          "evalue": "invalid syntax (<ipython-input-11-ab4cb30c9a6e>, line 1)",
          "traceback": [
            "\u001b[0;36m  File \u001b[0;32m\"<ipython-input-11-ab4cb30c9a6e>\"\u001b[0;36m, line \u001b[0;32m1\u001b[0m\n\u001b[0;31m    int arr[] = {1, 2, 3};\u001b[0m\n\u001b[0m        ^\u001b[0m\n\u001b[0;31mSyntaxError\u001b[0m\u001b[0;31m:\u001b[0m invalid syntax\n"
          ]
        }
      ]
    },
    {
      "cell_type": "code",
      "source": [
        "arr = [1, 2, 3]\n",
        "sum = arr[0] + arr[1]"
      ],
      "metadata": {
        "id": "Wn7JHVldy2Wf"
      },
      "execution_count": null,
      "outputs": []
    },
    {
      "cell_type": "markdown",
      "source": [
        "Python code gets turned into C bytecode → machine code → executed as CPU instructions working with memory.\n",
        "\n"
      ],
      "metadata": {
        "id": "nrBn6vdTzCIh"
      }
    },
    {
      "cell_type": "markdown",
      "source": [
        "# Numpy — Fast Arrays Using C and SIMD"
      ],
      "metadata": {
        "id": "wtr0oRA8zXh_"
      }
    },
    {
      "cell_type": "code",
      "source": [
        "import numpy as np\n",
        "arr = np.array([1, 2, 3])\n",
        "arr * 2  # Vectorized operation"
      ],
      "metadata": {
        "colab": {
          "base_uri": "https://localhost:8080/"
        },
        "id": "pa-wpZIszZUI",
        "outputId": "4d9b3f61-aa87-4656-dcbc-c2a586f47a3a"
      },
      "execution_count": null,
      "outputs": [
        {
          "output_type": "execute_result",
          "data": {
            "text/plain": [
              "array([2, 4, 6])"
            ]
          },
          "metadata": {},
          "execution_count": 13
        }
      ]
    },
    {
      "cell_type": "markdown",
      "source": [
        "Numpy arrays are:\n",
        "\n",
        "Backed by C arrays\n",
        "\n",
        "Stored contiguously in memory\n",
        "\n",
        "Use SIMD (Single Instruction, Multiple Data) to do fast math on arrays"
      ],
      "metadata": {
        "id": "QjgnaIpazgmv"
      }
    },
    {
      "cell_type": "markdown",
      "source": [
        "Under the hood:\n",
        "\n",
        "Vector registers in the CPU multiply all elements at once\n",
        "\n",
        "Like doing:\n",
        "\n",
        "csharp\n",
        "Copy code\n",
        "[1, 2, 3] * 2 = [2, 4, 6]"
      ],
      "metadata": {
        "id": "QxSEUxmszrpY"
      }
    },
    {
      "cell_type": "markdown",
      "source": [
        "thats why python is good for intelignece programms it uses words as commands our words. its not the libs it is what you understand behind python words ."
      ],
      "metadata": {
        "id": "4Q8UxVW_zvqP"
      }
    },
    {
      "cell_type": "markdown",
      "source": [
        "as a result\n",
        "\n",
        "*Layer\tWhat Happens\n",
        "Bit Level\tValues are stored as 0s and 1s\n",
        "Memory\tArrays are stored in contiguous RAM\n",
        "CPU\tLoads and operates on elements using registers\n",
        "Low-level Code\tC/Assembly manipulates array by address math\n",
        "High-level Code\tPython/Numpy wraps it all with abstraction."
      ],
      "metadata": {
        "id": "ubv9I16e0FRi"
      }
    },
    {
      "cell_type": "markdown",
      "source": [
        "# Neural Networking"
      ],
      "metadata": {
        "id": "cblo7c4F4lRy"
      }
    },
    {
      "cell_type": "markdown",
      "source": [
        "1 . neurons"
      ],
      "metadata": {
        "id": "Xg2xZ69X5WmP"
      }
    },
    {
      "cell_type": "markdown",
      "source": [
        "formula\n"
      ],
      "metadata": {
        "id": "A7LCY5s75tke"
      }
    },
    {
      "cell_type": "markdown",
      "source": [
        "output=ϕ(\n",
        "i=1\n",
        "∑\n",
        "n\n",
        "​\n",
        " (x\n",
        "i\n",
        "​\n",
        " ⋅w\n",
        "i\n",
        "​\n",
        " )+b)"
      ],
      "metadata": {
        "id": "aILKU9_C5vPH"
      }
    },
    {
      "cell_type": "markdown",
      "source": [
        "Where:\n",
        "\n",
        "𝑥\n",
        "=\n",
        "[\n",
        "𝑥\n",
        "1\n",
        ",\n",
        "𝑥\n",
        "2\n",
        ",\n",
        ".\n",
        ".\n",
        ".\n",
        ",\n",
        "𝑥\n",
        "𝑛\n",
        "]\n",
        "x=[x\n",
        "1\n",
        "​\n",
        " ,x\n",
        "2\n",
        "​\n",
        " ,...,x\n",
        "n\n",
        "​\n",
        " ]: input array\n",
        "\n",
        "𝑤\n",
        "=\n",
        "[\n",
        "𝑤\n",
        "1\n",
        ",\n",
        "𝑤\n",
        "2\n",
        ",\n",
        ".\n",
        ".\n",
        ".\n",
        ",\n",
        "𝑤\n",
        "𝑛\n",
        "]\n",
        "w=[w\n",
        "1\n",
        "​\n",
        " ,w\n",
        "2\n",
        "​\n",
        " ,...,w\n",
        "n\n",
        "​\n",
        " ]: weight array\n",
        "\n",
        "𝑏\n",
        "b: bias (single number)\n",
        "\n",
        "𝜙\n",
        "ϕ: activation function (like sigmoid, ReLU, tanh)"
      ],
      "metadata": {
        "id": "Gzpnh2MM51Lz"
      }
    },
    {
      "cell_type": "code",
      "source": [
        "inputs  = [0.5, 0.8, 0.2]\n",
        "weights = [0.4, 0.3, 0.9]\n",
        "bias    = 0.1\n"
      ],
      "metadata": {
        "id": "Ae0pVtIb58aQ"
      },
      "execution_count": null,
      "outputs": []
    },
    {
      "cell_type": "markdown",
      "source": [
        "Multiply each input by its corresponding weight:\n",
        "\n"
      ],
      "metadata": {
        "id": "dlwbqRYn6LtQ"
      }
    },
    {
      "cell_type": "markdown",
      "source": [
        "[0.5⋅0.4, 0.8⋅0.3, 0.2⋅0.9]=[0.20,0.24,0.18]"
      ],
      "metadata": {
        "id": "s5zqWOeO6Tcn"
      }
    },
    {
      "cell_type": "markdown",
      "source": [
        "Step 2: Sum the results\n",
        "0.20\n",
        "+\n",
        "0.24\n",
        "+\n",
        "0.18\n",
        "=\n",
        "0.62\n",
        "0.20+0.24+0.18=0.62"
      ],
      "metadata": {
        "id": "CUqFHWp26ji6"
      }
    },
    {
      "cell_type": "markdown",
      "source": [
        "Step 3: Add bias\n",
        "0.62\n",
        "+\n",
        "0.1\n",
        "=\n",
        "0.72\n",
        "0.62+0.1=0.72"
      ],
      "metadata": {
        "id": "25CY51Cq6kpW"
      }
    },
    {
      "cell_type": "markdown",
      "source": [
        "Step 4: Apply activation (e.g., Sigmoid)\n",
        "sigmoid\n",
        "(\n",
        "0.72\n",
        ")\n",
        "=\n",
        "1\n",
        "1\n",
        "+\n",
        "𝑒\n",
        "−\n",
        "0.72\n",
        "≈\n",
        "0.673\n",
        "sigmoid(0.72)=\n",
        "1+e\n",
        "−0.72\n",
        "\n",
        "1\n",
        "​\n",
        " ≈0.673"
      ],
      "metadata": {
        "id": "Q7IoqO7c6mIn"
      }
    },
    {
      "cell_type": "code",
      "source": [
        "import math\n",
        "\n",
        "def sigmoid(x):\n",
        "  return 1 / (1+math.exp(-x))\n",
        "\n",
        "\n",
        "def neuron_output(inputs, weights, bias):\n",
        "  total = 0\n",
        "  for i in range(len(inputs)):\n",
        "    total += inputs[i] * weights[i]\n",
        "  total += bias\n",
        "  return sigmoid(total)"
      ],
      "metadata": {
        "id": "vz2DiQ376rA_"
      },
      "execution_count": null,
      "outputs": []
    },
    {
      "cell_type": "code",
      "source": [
        "inputs  = [0.5, 0.8, 0.2]\n",
        "weights = [0.4, 0.3, 0.9]\n",
        "bias    = 0.1\n",
        "\n",
        "output = neuron_output(inputs, weights, bias)\n",
        "print(\"Output:\", output)  # Output: 0.673\n"
      ],
      "metadata": {
        "colab": {
          "base_uri": "https://localhost:8080/"
        },
        "id": "pbhn2veN7tPh",
        "outputId": "75da43d7-8ab6-43e8-9599-97e9dede8b45"
      },
      "execution_count": null,
      "outputs": [
        {
          "output_type": "stream",
          "name": "stdout",
          "text": [
            "Output: 0.6726070170677604\n"
          ]
        }
      ]
    },
    {
      "cell_type": "markdown",
      "source": [
        "so this is sigmoid activision wich if for probablity where the importance of value gets the nuerons the more efficency , and there is more ."
      ],
      "metadata": {
        "id": "NQErH6s39WYf"
      }
    },
    {
      "cell_type": "code",
      "source": [
        "sigmoid is (0,1) used for probability (logistic 0 , 1)"
      ],
      "metadata": {
        "id": "BbpBHTgg96mR"
      },
      "execution_count": null,
      "outputs": []
    },
    {
      "cell_type": "code",
      "source": [
        "tanh is ( -1  , 1 ) used for the centerd x"
      ],
      "metadata": {
        "id": "y2fbmQy0-LfK"
      },
      "execution_count": null,
      "outputs": []
    },
    {
      "cell_type": "code",
      "source": [
        "relu is (0 - infinity) used for hidden layers in x features that cant be learnt by only maths"
      ],
      "metadata": {
        "id": "l_gfHhIl-fEL"
      },
      "execution_count": null,
      "outputs": []
    },
    {
      "cell_type": "code",
      "source": [
        "leaky relu is (negative infinity - infinity) used for hidden layers but fix dead neurons"
      ],
      "metadata": {
        "id": "ExMtp0pm-2dP"
      },
      "execution_count": null,
      "outputs": []
    },
    {
      "cell_type": "code",
      "source": [
        "import math\n",
        "\n",
        "def sigmoid(x):\n",
        "    return 1 / (1 + math.exp(-x))\n",
        "\n",
        "def tanh(x):\n",
        "    return math.tanh(x)\n",
        "\n",
        "def relu(x):\n",
        "    return max(0, x)\n",
        "\n",
        "def leaky_relu(x, alpha=0.01):\n",
        "    return x if x > 0 else alpha * x\n"
      ],
      "metadata": {
        "id": "n8pMDeVY_KR5"
      },
      "execution_count": null,
      "outputs": []
    },
    {
      "cell_type": "code",
      "source": [
        "def tanh(x):\n",
        "    return math.tanh(x)\n",
        "\n",
        "def neuron_output(inputs, weights, bias):\n",
        "  total = 0\n",
        "  for i in range(len(inputs)):\n",
        "    total += inputs[i] * weights[i]\n",
        "  total += bias\n",
        "  return tanh(total)"
      ],
      "metadata": {
        "id": "z_5_14fY_nwA"
      },
      "execution_count": null,
      "outputs": []
    },
    {
      "cell_type": "code",
      "source": [
        "inputs  = [0.5, 0.8, 0.2]\n",
        "weights = [0.4, 0.3, 0.9]\n",
        "bias    = 0.1\n",
        "\n",
        "output = neuron_output(inputs, weights, bias)\n",
        "print(\"Output:\", output)  # Output: 0.673"
      ],
      "metadata": {
        "id": "DoT86ovn_2be",
        "outputId": "5b449316-ab82-4b72-8fbf-6cdfb740fb13",
        "colab": {
          "base_uri": "https://localhost:8080/"
        }
      },
      "execution_count": null,
      "outputs": [
        {
          "output_type": "stream",
          "name": "stdout",
          "text": [
            "Output: 0.616909302877065\n"
          ]
        }
      ]
    },
    {
      "cell_type": "markdown",
      "source": [
        "Backpropagation"
      ],
      "metadata": {
        "id": "-65fNd-JvZkC"
      }
    },
    {
      "cell_type": "markdown",
      "source": [
        "1 manual backprop on a single neuron.\n",
        "\n",
        "2 Gradients through activation functions.\n",
        "\n",
        "3 Backprop through a full layer."
      ],
      "metadata": {
        "id": "8O3nZvh7veRY"
      }
    },
    {
      "cell_type": "markdown",
      "source": [
        "in the manual we do the forward pass\n",
        "\n",
        "as before sum inputs with wieghts or ***x1+w1 , x2 + w2 = fp***\n",
        "\n",
        "this makes the final pass to bias\n",
        "\n",
        "***so fp + bias ***\n",
        "\n"
      ],
      "metadata": {
        "id": "vmA9-lX3vzng"
      }
    },
    {
      "cell_type": "code",
      "source": [
        "then we make the activsion :"
      ],
      "metadata": {
        "collapsed": true,
        "id": "jwu4eCSHwjNq"
      },
      "execution_count": null,
      "outputs": []
    },
    {
      "cell_type": "code",
      "source": [
        "x = fp + bias\n",
        "sigmoid(x)"
      ],
      "metadata": {
        "colab": {
          "base_uri": "https://localhost:8080/"
        },
        "id": "_xRb97Rvwn8h",
        "outputId": "440e330b-6708-4d7e-e5af-238966b696db"
      },
      "execution_count": null,
      "outputs": [
        {
          "output_type": "execute_result",
          "data": {
            "text/plain": [
              "0.7310585786300049"
            ]
          },
          "metadata": {},
          "execution_count": 16
        }
      ]
    },
    {
      "cell_type": "code",
      "source": [
        "then we go with the loss mse"
      ],
      "metadata": {
        "id": "rA0H81n7w55w"
      },
      "execution_count": null,
      "outputs": []
    },
    {
      "cell_type": "markdown",
      "source": [
        "Loss=(\n",
        "y\n",
        "^\n",
        "​\n",
        " −y)\n",
        "2\n"
      ],
      "metadata": {
        "id": "9oc30LBjxRZY"
      }
    },
    {
      "cell_type": "markdown",
      "source": [
        "after taking the loss messure we need to update the wieghts that will proceed to another less loss and thats how the chain rule works making new weights so w3"
      ],
      "metadata": {
        "id": "yRcrW2i_xliw"
      }
    },
    {
      "cell_type": "markdown",
      "source": [
        "dw\n",
        "1\n",
        "​\n",
        "\n",
        "dL\n",
        "​\n",
        " ,\n",
        "dw\n",
        "2\n",
        "​\n",
        "\n",
        "dL\n",
        "​\n",
        " ,\n",
        "db\n",
        "dL\n",
        "​"
      ],
      "metadata": {
        "id": "UDE7KbEZyATJ"
      }
    },
    {
      "cell_type": "markdown",
      "source": [
        "resulting the new x and new prediction (better y ) y3"
      ],
      "metadata": {
        "id": "RMzpEgUHyNFz"
      }
    },
    {
      "cell_type": "markdown",
      "source": [
        "then we update the weights with learning rates **after all of above ofcourse**"
      ],
      "metadata": {
        "id": "lbXGm_VNybTi"
      }
    },
    {
      "cell_type": "markdown",
      "source": [
        "so after all of that after i understood the engine or i thought i understood the engine of the learning in neurons i found out about"
      ],
      "metadata": {
        "id": "DgCk7kL-zLkh"
      }
    },
    {
      "cell_type": "code",
      "source": [
        "learning rate"
      ],
      "metadata": {
        "id": "WiUb2lwazZ1o"
      },
      "execution_count": null,
      "outputs": []
    },
    {
      "cell_type": "markdown",
      "source": [
        "so i found out about it and how it is important"
      ],
      "metadata": {
        "id": "LzUpen8RzdIi"
      }
    },
    {
      "cell_type": "code",
      "source": [
        "the gradiants is where to go with the info or the info that tells us"
      ],
      "metadata": {
        "id": "9UOJE889zxV3"
      },
      "execution_count": null,
      "outputs": []
    },
    {
      "cell_type": "code",
      "source": [
        "the direction of how the info have to be\n",
        "so the direction is the gradiant but what is the learning rate is\n",
        "how fast you want to go to"
      ],
      "metadata": {
        "id": "GyfzhFjmz68A"
      },
      "execution_count": null,
      "outputs": []
    },
    {
      "cell_type": "code",
      "source": [
        "so learning rate is 0.1 is steady and stable learning"
      ],
      "metadata": {
        "id": "ikoePEAy0NwI"
      },
      "execution_count": null,
      "outputs": []
    },
    {
      "cell_type": "code",
      "source": [
        "1.0 is too high remembering that the gradiant is in precent so you are\n",
        "multiplying little nums with big nums will cause a problem\n",
        "and it wont be affective it will take big steps may increase loss\n",
        "and the target is to decrease it ."
      ],
      "metadata": {
        "id": "oegDQH290T04"
      },
      "execution_count": null,
      "outputs": []
    },
    {
      "cell_type": "code",
      "source": [
        "0.001 too small forever scale"
      ],
      "metadata": {
        "id": "DSuT5kiB1LyR"
      },
      "execution_count": null,
      "outputs": []
    },
    {
      "cell_type": "markdown",
      "source": [
        "# multi layering"
      ],
      "metadata": {
        "id": "etah25IeSZY6"
      }
    },
    {
      "cell_type": "markdown",
      "source": [
        "with multi layer you will have like multi net of brains that are trying to learn which is the nn base of idea"
      ],
      "metadata": {
        "id": "okb2ocQOSdPp"
      }
    },
    {
      "cell_type": "markdown",
      "source": [
        "here is two inputs in array and 3 neurons and one bais per neuron."
      ],
      "metadata": {
        "id": "oSPPAmahSenZ"
      }
    },
    {
      "cell_type": "markdown",
      "source": [
        "import numpy as np\n",
        "\n",
        "# Input\n",
        "x = np.array([0.5, -1.5])  # Shape (2,)\n",
        "\n",
        "# Weights and biases for Layer 1\n",
        "W1 = np.random.randn(3, 2)  # 3 neurons, 2 inputs each\n",
        "b1 = np.zeros((3,))         # One bias per neuron\n",
        "\n",
        "# Weights and biases for Layer 2\n",
        "W2 = np.random.randn(2, 3)  # 2 neurons, each connected to 3\n",
        "b2 = np.zeros((2,))         # One bias per output neuron"
      ],
      "metadata": {
        "id": "E5AEKJInTF3S"
      }
    },
    {
      "cell_type": "markdown",
      "source": [
        "and the forward pass for them\n"
      ],
      "metadata": {
        "id": "JNECkFn9TQrB"
      }
    },
    {
      "cell_type": "markdown",
      "source": [
        "# Layer 1: Linear + Activation\n",
        "z1 = W1 @ x + b1           # Shape: (3,) = (3,2) @ (2,)\n",
        "a1 = 1 / (1 + np.exp(-z1))  # Sigmoid activation\n",
        "\n",
        "# Layer 2: Linear + Activation\n",
        "z2 = W2 @ a1 + b2          # Shape: (2,) = (2,3) @ (3,)\n",
        "a2 = 1 / (1 + np.exp(-z2))  # Output layer (sigmoid again)\n",
        "\n",
        "ŷ = a2  # Predicted output\n"
      ],
      "metadata": {
        "id": "mw6KwcvMTVDJ"
      }
    },
    {
      "cell_type": "markdown",
      "source": [
        "will go with coding experience onto the same steps and forms above but with the two layers:"
      ],
      "metadata": {
        "id": "dpgkoLHnUKuo"
      }
    },
    {
      "cell_type": "markdown",
      "source": [
        "basic structers codes :"
      ],
      "metadata": {
        "id": "g54rH-5yTjLx"
      }
    },
    {
      "cell_type": "code",
      "source": [
        "import numpy as np\n",
        "\n",
        "# Input\n",
        "x = np.array([0.5, -1.5])  # Shape (2,)\n",
        "\n",
        "# Weights and biases for Layer 1\n",
        "W1 = np.random.randn(3, 2)  # 3 neurons, 2 inputs each\n",
        "b1 = np.zeros((3,))         # One bias per neuron\n",
        "\n",
        "# Weights and biases for Layer 2\n",
        "W2 = np.random.randn(2, 3)  # 2 neurons, each connected to 3\n",
        "b2 = np.zeros((2,))         # One bias per output neuron\n"
      ],
      "metadata": {
        "id": "m2OMbGGtTpC5"
      },
      "execution_count": null,
      "outputs": []
    },
    {
      "cell_type": "code",
      "source": [
        "# Layer 1: Linear + Activation\n",
        "z1 = W1 @ x + b1           # Shape: (3,) = (3,2) @ (2,)\n",
        "a1 = 1 / (1 + np.exp(-z1))  # Sigmoid activation\n",
        "\n",
        "# Layer 2: Linear + Activation\n",
        "z2 = W2 @ a1 + b2          # Shape: (2,) = (2,3) @ (3,)\n",
        "a2 = 1 / (1 + np.exp(-z2))  # Output layer (sigmoid again)\n",
        "\n",
        "ŷ = a2  # Predicted output\n"
      ],
      "metadata": {
        "id": "R2smDAwQTwAS"
      },
      "execution_count": null,
      "outputs": []
    },
    {
      "cell_type": "markdown",
      "source": [
        "back prop the 2 layers"
      ],
      "metadata": {
        "id": "SM1kiETdUFy8"
      }
    },
    {
      "cell_type": "code",
      "source": [
        "y = np.array([1, 0])             # shape (2,) — binary vector\n",
        "print(y)"
      ],
      "metadata": {
        "colab": {
          "base_uri": "https://localhost:8080/"
        },
        "id": "NZTiiinxVITa",
        "outputId": "5c75b06a-70e4-4ffd-f2d2-321126a64817"
      },
      "execution_count": null,
      "outputs": [
        {
          "output_type": "stream",
          "name": "stdout",
          "text": [
            "[1 0]\n"
          ]
        }
      ]
    },
    {
      "cell_type": "markdown",
      "source": [
        "Loss =\n",
        "\n",
        "𝐿\n",
        "=\n",
        "−\n",
        "[\n",
        "𝑦\n",
        "1\n",
        "log\n",
        "⁡\n",
        "(\n",
        "𝑦\n",
        "^\n",
        "1\n",
        ")\n",
        "+\n",
        "(\n",
        "1\n",
        "−\n",
        "𝑦\n",
        "1\n",
        ")\n",
        "log\n",
        "⁡\n",
        "(\n",
        "1\n",
        "−\n",
        "𝑦\n",
        "^\n",
        "1\n",
        ")\n",
        "]\n",
        "−\n",
        "[\n",
        "𝑦\n",
        "2\n",
        "log\n",
        "⁡\n",
        "(\n",
        "𝑦\n",
        "^\n",
        "2\n",
        ")\n",
        "+\n",
        "(\n",
        "1\n",
        "−\n",
        "𝑦\n",
        "2\n",
        ")\n",
        "log\n",
        "⁡\n",
        "(\n",
        "1\n",
        "−\n",
        "𝑦\n",
        "^\n",
        "2\n",
        ")\n",
        "]\n",
        "L=−[y\n",
        "1\n",
        "​\n",
        " log(\n",
        "y\n",
        "^\n",
        "​\n",
        "  \n",
        "1\n",
        "​\n",
        " )+(1−y\n",
        "1\n",
        "​\n",
        " )log(1−\n",
        "y\n",
        "^\n",
        "​\n",
        "  \n",
        "1\n",
        "​\n",
        " )]−[y\n",
        "2\n",
        "​\n",
        " log(\n",
        "y\n",
        "^\n",
        "​\n",
        "  \n",
        "2\n",
        "​\n",
        " )+(1−y\n",
        "2\n",
        "​\n",
        " )log(1−\n",
        "y\n",
        "^\n",
        "​\n",
        "  \n",
        "2\n",
        "​\n",
        " )]"
      ],
      "metadata": {
        "id": "Y8lakF5zVmqh"
      }
    },
    {
      "cell_type": "code",
      "source": [
        "dL_da2 = a2 - y     # shape (2,)\n",
        "print(dL_da2)"
      ],
      "metadata": {
        "colab": {
          "base_uri": "https://localhost:8080/"
        },
        "id": "TRMdhpn6VLSg",
        "outputId": "8184e15f-3103-4027-ccbc-2d92acc080f8"
      },
      "execution_count": null,
      "outputs": [
        {
          "output_type": "stream",
          "name": "stdout",
          "text": [
            "[-0.25869922  0.37446847]\n"
          ]
        }
      ]
    },
    {
      "cell_type": "markdown",
      "source": [
        "σ\n",
        "′\n",
        " (z)=σ(z)(1−σ(z))"
      ],
      "metadata": {
        "id": "8S2DSp6TVxdb"
      }
    },
    {
      "cell_type": "markdown",
      "source": [
        "Sigmoid of Layer 2"
      ],
      "metadata": {
        "id": "hJ_TTT1vV34r"
      }
    },
    {
      "cell_type": "code",
      "source": [
        "dz2 = dL_da2 * a2 * (1 - a2)   # shape (2,)\n"
      ],
      "metadata": {
        "id": "3BuUoeyGV8WB"
      },
      "execution_count": null,
      "outputs": []
    },
    {
      "cell_type": "markdown",
      "source": [
        "Gradients for W2 and b2"
      ],
      "metadata": {
        "id": "XjYbvTcFWDDR"
      }
    },
    {
      "cell_type": "code",
      "source": [
        "dW2 = dz2[:, None] @ a1[None, :]   # shape (2, 3)\n",
        "db2 = dz2                         # shape (2,)\n"
      ],
      "metadata": {
        "id": "miyM_LIMWD-K"
      },
      "execution_count": null,
      "outputs": []
    },
    {
      "cell_type": "markdown",
      "source": [
        "Backprop to Layer 1\n",
        "We now push gradients into layer 1:\n",
        "\n",
        "𝑑\n",
        "𝐿\n",
        "𝑑\n",
        "𝑧\n",
        "1\n",
        "=\n",
        "(\n",
        "𝑊\n",
        "2\n",
        "𝑇\n",
        "⋅\n",
        "𝑑\n",
        "𝑧\n",
        "2\n",
        ")\n",
        "∗\n",
        "𝑎\n",
        "1\n",
        "∗\n",
        "(\n",
        "1\n",
        "−\n",
        "𝑎\n",
        "1\n",
        ")\n",
        "dz1\n",
        "dL\n",
        "​\n",
        " =(W2\n",
        "T\n",
        " ⋅dz2)∗a1∗(1−a1)"
      ],
      "metadata": {
        "id": "kZeRkj2OWTXp"
      }
    },
    {
      "cell_type": "code",
      "source": [
        "dz1 = (W2.T @ dz2) * a1 * (1 - a1)  # shape (3,)\n"
      ],
      "metadata": {
        "id": "f-kRyHJyWVFB"
      },
      "execution_count": null,
      "outputs": []
    },
    {
      "cell_type": "code",
      "source": [
        "dW1 = dz1[:, None] @ x[None, :]    # shape (3, 2)\n",
        "db1 = dz1                          # shape (3,)\n"
      ],
      "metadata": {
        "id": "2FQauugHXN_4"
      },
      "execution_count": null,
      "outputs": []
    },
    {
      "cell_type": "markdown",
      "source": [
        "Update Weights\n",
        "Let’s use a learning rate lr = 0.1:"
      ],
      "metadata": {
        "id": "kTqMjlNHW57g"
      }
    },
    {
      "cell_type": "code",
      "source": [
        "lr = 0.1"
      ],
      "metadata": {
        "id": "i1Wq0A9tXC3J"
      },
      "execution_count": null,
      "outputs": []
    },
    {
      "cell_type": "code",
      "source": [
        "W2 -= lr * dW2\n",
        "b2 -= lr * db2\n",
        "W1 -= lr * dW1\n",
        "b1 -= lr * db1"
      ],
      "metadata": {
        "id": "TFTLp2dbW7Gg"
      },
      "execution_count": null,
      "outputs": []
    },
    {
      "cell_type": "markdown",
      "source": [
        "and this is the bac prop with two layers\n",
        "full backpropagation on a multi-layer neural net with just arrays and brain power."
      ],
      "metadata": {
        "id": "t4o-Puj1XWdq"
      }
    },
    {
      "cell_type": "markdown",
      "source": [
        "conclusin :"
      ],
      "metadata": {
        "id": "VvuaNUf-Za4Q"
      }
    },
    {
      "cell_type": "code",
      "source": [
        "the nn is arrays computing thats why every machine learning method uses numpy even with data the data have to be array after we process it and visualize it ."
      ],
      "metadata": {
        "id": "qZxLVEdYZdu4"
      },
      "execution_count": null,
      "outputs": []
    }
  ]
}