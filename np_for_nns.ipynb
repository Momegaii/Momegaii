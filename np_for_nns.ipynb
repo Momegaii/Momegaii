{
  "nbformat": 4,
  "nbformat_minor": 0,
  "metadata": {
    "colab": {
      "provenance": [],
      "authorship_tag": "ABX9TyNQXcooFwx+mA7lfoNkYIGS",
      "include_colab_link": true
    },
    "kernelspec": {
      "name": "python3",
      "display_name": "Python 3"
    },
    "language_info": {
      "name": "python"
    }
  },
  "cells": [
    {
      "cell_type": "markdown",
      "metadata": {
        "id": "view-in-github",
        "colab_type": "text"
      },
      "source": [
        "<a href=\"https://colab.research.google.com/github/Momegaii/Momegaii/blob/main/np_for_nns.ipynb\" target=\"_parent\"><img src=\"https://colab.research.google.com/assets/colab-badge.svg\" alt=\"Open In Colab\"/></a>"
      ]
    },
    {
      "cell_type": "markdown",
      "source": [
        "# Understanding NumPy Arrays & Shapes"
      ],
      "metadata": {
        "id": "cdhsYlZ8xGL7"
      }
    },
    {
      "cell_type": "markdown",
      "source": [
        "NumPy Arrays & Shapes – The Foundations"
      ],
      "metadata": {
        "id": "sEQs82O6BFKb"
      }
    },
    {
      "cell_type": "code",
      "source": [
        "import numpy as np"
      ],
      "metadata": {
        "id": "XZRh8ybWxjVK"
      },
      "execution_count": 2,
      "outputs": []
    },
    {
      "cell_type": "code",
      "source": [
        "scaler = np.array(5)\n",
        "print(scaler)\n",
        "print(scaler.shape)\n",
        "print(scaler.ndim)"
      ],
      "metadata": {
        "colab": {
          "base_uri": "https://localhost:8080/"
        },
        "id": "DwBh2IscBLzs",
        "outputId": "571527af-c5a6-4542-94e4-a055c603905c"
      },
      "execution_count": 3,
      "outputs": [
        {
          "output_type": "stream",
          "name": "stdout",
          "text": [
            "5\n",
            "()\n",
            "0\n"
          ]
        }
      ]
    },
    {
      "cell_type": "code",
      "source": [
        "vector = np.array([1,2,3])\n",
        "print(vector)\n",
        "print(vector.shape)\n",
        "print(vector.ndim)"
      ],
      "metadata": {
        "colab": {
          "base_uri": "https://localhost:8080/"
        },
        "id": "ZHNUbHjyBcbv",
        "outputId": "1273efc4-46ce-4f04-bfb6-4315fe79eef1"
      },
      "execution_count": 4,
      "outputs": [
        {
          "output_type": "stream",
          "name": "stdout",
          "text": [
            "[1 2 3]\n",
            "(3,)\n",
            "1\n"
          ]
        }
      ]
    },
    {
      "cell_type": "code",
      "source": [
        "matrix= np.array([[1,2],[4,5]])\n",
        "print(matrix)\n",
        "print(matrix.shape)\n",
        "print(matrix.ndim)\n"
      ],
      "metadata": {
        "colab": {
          "base_uri": "https://localhost:8080/"
        },
        "id": "e0PIM0dnBqr1",
        "outputId": "12cb3064-cd56-46e0-fd63-9cd21a3bfce9"
      },
      "execution_count": 5,
      "outputs": [
        {
          "output_type": "stream",
          "name": "stdout",
          "text": [
            "[[1 2]\n",
            " [4 5]]\n",
            "(2, 2)\n",
            "2\n"
          ]
        }
      ]
    },
    {
      "cell_type": "markdown",
      "source": [
        "this is the most important in nns bcs it deals with mor than 2 dems"
      ],
      "metadata": {
        "id": "3uYcV5KBCqL0"
      }
    },
    {
      "cell_type": "code",
      "source": [
        "tensor3d = np.array([[[1,2],[3,4]], [[5,6],[7,8]]])\n",
        "print(tensor3d)\n",
        "print(tensor3d.shape)\n",
        "print(tensor3d.ndim)"
      ],
      "metadata": {
        "colab": {
          "base_uri": "https://localhost:8080/"
        },
        "id": "hqQklPcoCDe8",
        "outputId": "bbc934b8-4413-4435-969b-6ec6cf1171bf"
      },
      "execution_count": 6,
      "outputs": [
        {
          "output_type": "stream",
          "name": "stdout",
          "text": [
            "[[[1 2]\n",
            "  [3 4]]\n",
            "\n",
            " [[5 6]\n",
            "  [7 8]]]\n",
            "(2, 2, 2)\n",
            "3\n"
          ]
        }
      ]
    },
    {
      "cell_type": "markdown",
      "source": [
        "Inspect Properties"
      ],
      "metadata": {
        "id": "QXQrMMrACydt"
      }
    },
    {
      "cell_type": "code",
      "source": [
        "a = np.array([[1,2,3],[3,4,5]])\n",
        "\n",
        "\n",
        "print(a)\n",
        "print(a.shape)\n",
        "print(a.dtype)\n",
        "print(a.ndim)\n"
      ],
      "metadata": {
        "colab": {
          "base_uri": "https://localhost:8080/"
        },
        "id": "QUqR3K04Czk9",
        "outputId": "a632c3fb-1f76-4c6b-948a-3e1611130707"
      },
      "execution_count": 7,
      "outputs": [
        {
          "output_type": "stream",
          "name": "stdout",
          "text": [
            "[[1 2 3]\n",
            " [3 4 5]]\n",
            "(2, 3)\n",
            "int64\n",
            "2\n"
          ]
        }
      ]
    },
    {
      "cell_type": "code",
      "source": [
        "arr = np.array([[1,2,3,4],[5,6,7,8],[9,10,11,12]])\n",
        "\n",
        "print('shape:',arr.shape)\n",
        "print(\"whole :\",arr)\n",
        "print(\"deminsions:\",arr.ndim)"
      ],
      "metadata": {
        "colab": {
          "base_uri": "https://localhost:8080/"
        },
        "id": "cz805caaDVY0",
        "outputId": "ddcfa888-9126-4f0e-d5c1-7d3f9bc1819c"
      },
      "execution_count": 8,
      "outputs": [
        {
          "output_type": "stream",
          "name": "stdout",
          "text": [
            "shape: (3, 4)\n",
            "whole : [[ 1  2  3  4]\n",
            " [ 5  6  7  8]\n",
            " [ 9 10 11 12]]\n",
            "deminsions: 2\n"
          ]
        }
      ]
    },
    {
      "cell_type": "markdown",
      "source": [
        "# Reshaping & Flattening"
      ],
      "metadata": {
        "id": "ggB_-QopxGb6"
      }
    },
    {
      "cell_type": "code",
      "source": [
        "arr = np.array([[1,2,3,4],\n",
        "               [5,6,7,8],\n",
        "               [9,10,11,12]])\n",
        "\n",
        "reshape = arr.reshape(4,3)\n",
        "print(reshape)"
      ],
      "metadata": {
        "id": "eSOrqqLqxjsK",
        "colab": {
          "base_uri": "https://localhost:8080/"
        },
        "outputId": "51607244-f6de-4ea7-9f8e-a35773169009"
      },
      "execution_count": null,
      "outputs": [
        {
          "output_type": "stream",
          "name": "stdout",
          "text": [
            "[[ 1  2  3]\n",
            " [ 4  5  6]\n",
            " [ 7  8  9]\n",
            " [10 11 12]]\n"
          ]
        }
      ]
    },
    {
      "cell_type": "markdown",
      "source": [
        "this right here for making the arrays flat have no shape"
      ],
      "metadata": {
        "id": "QQ_rjdZLTgEe"
      }
    },
    {
      "cell_type": "code",
      "source": [
        "flat1 = arr.flatten()\n",
        "flat2 = arr.ravel()\n",
        "print(flat1)\n",
        "print(flat2)"
      ],
      "metadata": {
        "colab": {
          "base_uri": "https://localhost:8080/"
        },
        "id": "63o5E5z6SqlO",
        "outputId": "40157f93-9adc-4e06-e2bd-461267130f67"
      },
      "execution_count": null,
      "outputs": [
        {
          "output_type": "stream",
          "name": "stdout",
          "text": [
            "[ 1  2  3  4  5  6  7  8  9 10 11 12]\n",
            "[ 1  2  3  4  5  6  7  8  9 10 11 12]\n"
          ]
        }
      ]
    },
    {
      "cell_type": "code",
      "source": [
        "a = np.array([[[5]]])\n",
        "\n",
        "asqueezed = np.squeeze(a)\n",
        "\n",
        "print(a.shape)\n",
        "print(asqueezed)"
      ],
      "metadata": {
        "colab": {
          "base_uri": "https://localhost:8080/"
        },
        "id": "sxGlq2jTSq7e",
        "outputId": "4bbb8295-8bda-4534-9294-8f0934d36370"
      },
      "execution_count": null,
      "outputs": [
        {
          "output_type": "stream",
          "name": "stdout",
          "text": [
            "(1, 1, 1)\n",
            "5\n"
          ]
        }
      ]
    },
    {
      "cell_type": "code",
      "source": [
        "vec = np.array([1,2,3])\n",
        "\n",
        "print(vec.shape)\n",
        "\n",
        "new_vec = np.expand_dims(vec, axis=0)\n",
        "\n",
        "print(new_vec)\n",
        "\n",
        "new_vec2  = np.expand_dims(vec, axis= 1)\n",
        "\n",
        "print(new_vec2)"
      ],
      "metadata": {
        "colab": {
          "base_uri": "https://localhost:8080/"
        },
        "id": "cccWRfHpSrfG",
        "outputId": "a07e5522-dd7d-4c71-c677-ece70ebaf30e"
      },
      "execution_count": null,
      "outputs": [
        {
          "output_type": "stream",
          "name": "stdout",
          "text": [
            "(3,)\n",
            "[[1 2 3]]\n",
            "[[1]\n",
            " [2]\n",
            " [3]]\n"
          ]
        }
      ]
    },
    {
      "cell_type": "code",
      "source": [
        "arr = np.array([[1,2,3],[4,5,6]])\n",
        "\n",
        "print(\"\\n arr :\\n\",arr)\n",
        "print(\" \")\n",
        "shape = arr.shape\n",
        "\n",
        "print(\"s: \",shape)\n",
        "print(\" \")\n",
        "reshape = arr.reshape(3,2)\n",
        "\n",
        "print(\"rs:\",reshape)\n",
        "print(\" \")\n",
        "flt = arr.flatten()\n",
        "print(\" \")\n",
        "print(\"flt:\",flt)\n",
        "print(\" \")\n",
        "exp = np.expand_dims(arr, axis=0)\n",
        "print(\" \")\n",
        "print(\"ex[:]\",exp)\n",
        "\n",
        "sqz = arr.squeeze()\n",
        "print(\"sqee: \",sqz)\n",
        "print(\" \")"
      ],
      "metadata": {
        "colab": {
          "base_uri": "https://localhost:8080/"
        },
        "id": "2LETW9zjSstt",
        "outputId": "b5b7ea31-85c0-44c3-fe46-18177d4a3abb"
      },
      "execution_count": null,
      "outputs": [
        {
          "output_type": "stream",
          "name": "stdout",
          "text": [
            "\n",
            " arr :\n",
            " [[1 2 3]\n",
            " [4 5 6]]\n",
            " \n",
            "s:  (2, 3)\n",
            " \n",
            "rs: [[1 2]\n",
            " [3 4]\n",
            " [5 6]]\n",
            " \n",
            " \n",
            "flt: [1 2 3 4 5 6]\n",
            " \n",
            " \n",
            "ex[:] [[[1 2 3]\n",
            "  [4 5 6]]]\n",
            "sqee:  [[1 2 3]\n",
            " [4 5 6]]\n",
            " \n"
          ]
        }
      ]
    },
    {
      "cell_type": "markdown",
      "source": [
        "# Broadcasting"
      ],
      "metadata": {
        "id": "got2Sj_HxGs6"
      }
    },
    {
      "cell_type": "code",
      "source": [
        "a = np.array([1,2,3])\n",
        "b = np.array([[10],[20],[30]])\n",
        "\n",
        "\n",
        "res = a+b\n",
        "\n",
        "print(res)"
      ],
      "metadata": {
        "id": "VKYNtvLfxj_i",
        "colab": {
          "base_uri": "https://localhost:8080/"
        },
        "outputId": "a9c08690-cff1-4f7d-ed94-37227ad4e864"
      },
      "execution_count": 10,
      "outputs": [
        {
          "output_type": "stream",
          "name": "stdout",
          "text": [
            "[[11 12 13]\n",
            " [21 22 23]\n",
            " [31 32 33]]\n"
          ]
        }
      ]
    },
    {
      "cell_type": "markdown",
      "source": [
        "What happened?\n",
        "a (1D) got broadcast to shape (3,3) to match b\n",
        "\n",
        "NumPy automatically matched dimensions"
      ],
      "metadata": {
        "id": "_Fjz5qteLM6M"
      }
    },
    {
      "cell_type": "code",
      "source": [
        "arr = np.array([1,2,3])\n",
        "\n",
        "reshaped = arr[:, np.newaxis]\n",
        "print(reshaped)"
      ],
      "metadata": {
        "colab": {
          "base_uri": "https://localhost:8080/"
        },
        "id": "TMYWEmjxLIHs",
        "outputId": "0fcea5ab-803b-47db-e056-192ac569de86"
      },
      "execution_count": 12,
      "outputs": [
        {
          "output_type": "stream",
          "name": "stdout",
          "text": [
            "[[1]\n",
            " [2]\n",
            " [3]]\n"
          ]
        }
      ]
    },
    {
      "cell_type": "code",
      "source": [
        "a = np.array([1, 2, 3])\n",
        "b = np.array([[10], [20], [30]])\n",
        "\n",
        "print(\"a shape:\", a.shape)\n",
        "print(\"b shape:\", b.shape)\n",
        "\n",
        "c = a + b\n",
        "print(\"Result:\\n\", c)\n",
        "print(\"Result shape:\", c.shape)\n"
      ],
      "metadata": {
        "colab": {
          "base_uri": "https://localhost:8080/"
        },
        "id": "90rG3TnsL9rM",
        "outputId": "80864b34-c388-490b-f7d9-f63653283850"
      },
      "execution_count": 13,
      "outputs": [
        {
          "output_type": "stream",
          "name": "stdout",
          "text": [
            "a shape: (3,)\n",
            "b shape: (3, 1)\n",
            "Result:\n",
            " [[11 12 13]\n",
            " [21 22 23]\n",
            " [31 32 33]]\n",
            "Result shape: (3, 3)\n"
          ]
        }
      ]
    },
    {
      "cell_type": "markdown",
      "source": [
        "# Matrix Multiplication"
      ],
      "metadata": {
        "id": "ACTmg4JgxG8a"
      }
    },
    {
      "cell_type": "code",
      "source": [
        "arr = np.array([[1,2,3],[4,5,6]])\n",
        "\n",
        "\n",
        "arr[1,0]\n",
        "\n",
        "arr[:,0]\n",
        "\n",
        "arr[1,:]\n",
        "\n",
        "arr[0]\n",
        "\n",
        "np.sum(arr)\n",
        "np.sum(arr, axis=0)\n",
        "np.sum(arr, axis=1)"
      ],
      "metadata": {
        "id": "qfj2iIg9xkVq",
        "colab": {
          "base_uri": "https://localhost:8080/"
        },
        "outputId": "14a3c73b-f4a6-483b-f785-32ac9f37c6be"
      },
      "execution_count": 31,
      "outputs": [
        {
          "output_type": "execute_result",
          "data": {
            "text/plain": [
              "array([ 6, 15])"
            ]
          },
          "metadata": {},
          "execution_count": 31
        }
      ]
    },
    {
      "cell_type": "markdown",
      "source": [
        "#  Debugging Shape Errors"
      ],
      "metadata": {
        "id": "klPXotbfxHM6"
      }
    },
    {
      "cell_type": "code",
      "source": [
        "arr = np.array([[1,2,3],\n",
        "                [4,5,6]])\n",
        "\n",
        "print(arr[0,1])\n",
        "print(arr[:,2])\n",
        "print(arr.sum(axis=1))"
      ],
      "metadata": {
        "id": "vDydCsCHxksC",
        "colab": {
          "base_uri": "https://localhost:8080/"
        },
        "outputId": "a987fe90-9b79-4567-c656-44592d92058b"
      },
      "execution_count": 32,
      "outputs": [
        {
          "output_type": "stream",
          "name": "stdout",
          "text": [
            "2\n",
            "[3 6]\n",
            "[ 6 15]\n"
          ]
        }
      ]
    },
    {
      "cell_type": "markdown",
      "source": [
        "# NN and numpy"
      ],
      "metadata": {
        "id": "tEV3TqFaTETF"
      }
    },
    {
      "cell_type": "markdown",
      "source": [
        "Matrix Multiplication in Neural Nets"
      ],
      "metadata": {
        "id": "Rn5ugu56URFc"
      }
    },
    {
      "cell_type": "code",
      "source": [
        "#The core equation of a neuron is\n",
        "\n",
        "z = w @ x +  b"
      ],
      "metadata": {
        "id": "-c2ygD3xTH3W"
      },
      "execution_count": null,
      "outputs": []
    },
    {
      "cell_type": "code",
      "source": [
        "x = np.array([0.5,1.5])\n",
        "w = np.array([[0.1,0.2],[0.3,0.4],[0.5,0.6]])\n",
        "b = np.array([0.1,0.2,0.3])\n",
        "\n",
        "z = w @ x + b"
      ],
      "metadata": {
        "id": "K6GlZwxmTbkG"
      },
      "execution_count": 35,
      "outputs": []
    },
    {
      "cell_type": "markdown",
      "source": [
        "Activation Functions"
      ],
      "metadata": {
        "id": "0mAGGcZCUUbW"
      }
    },
    {
      "cell_type": "code",
      "source": [
        "print(z)\n",
        "def sigmoid(z):\n",
        "  return 1 / (1+np.exp(-z))\n",
        "\n",
        "sigmoid(z)"
      ],
      "metadata": {
        "colab": {
          "base_uri": "https://localhost:8080/"
        },
        "id": "0HtwBJY5UXbO",
        "outputId": "ca530762-e1d7-4a95-f0a4-7d8289236be7"
      },
      "execution_count": 38,
      "outputs": [
        {
          "output_type": "stream",
          "name": "stdout",
          "text": [
            "[0.45 0.95 1.45]\n"
          ]
        },
        {
          "output_type": "execute_result",
          "data": {
            "text/plain": [
              "array([0.61063923, 0.72111518, 0.80999843])"
            ]
          },
          "metadata": {},
          "execution_count": 38
        }
      ]
    },
    {
      "cell_type": "markdown",
      "source": [
        "in sigmoid we use np.exp(-x)\n",
        "\n",
        "to turn any number into posibillty\n",
        "\n",
        "even the the negative bcs signmoid is for yes or no methods binary"
      ],
      "metadata": {
        "id": "xhUep1iTVMXB"
      }
    },
    {
      "cell_type": "markdown",
      "source": [
        "exrc"
      ],
      "metadata": {
        "id": "UBb0VPKYWKYd"
      }
    },
    {
      "cell_type": "code",
      "source": [
        "x = np.random.randn(21)\n",
        "print(x)"
      ],
      "metadata": {
        "colab": {
          "base_uri": "https://localhost:8080/"
        },
        "id": "gNsJbEklWLhQ",
        "outputId": "56cd6cfb-7b24-40f4-cbb1-6b170f55fda3"
      },
      "execution_count": 39,
      "outputs": [
        {
          "output_type": "stream",
          "name": "stdout",
          "text": [
            "[ 0.08465418  2.05703054  0.01891067 -1.0554803   1.4163789   0.33080975\n",
            "  1.49145661 -0.23527365 -0.37282436 -1.03138406 -1.02457038  2.30060313\n",
            "  0.41444902 -1.35990669  0.66455408  1.32476348  0.81687523  0.3801228\n",
            " -1.27123204 -0.03992034  0.19458337]\n"
          ]
        }
      ]
    },
    {
      "cell_type": "code",
      "source": [
        "w = np.random.randn(10,21)\n",
        "print(w)"
      ],
      "metadata": {
        "colab": {
          "base_uri": "https://localhost:8080/"
        },
        "id": "Bw_o3YpsWRmP",
        "outputId": "fa293f36-4ba3-4ed5-9d41-e1eb770e29a2"
      },
      "execution_count": 41,
      "outputs": [
        {
          "output_type": "stream",
          "name": "stdout",
          "text": [
            "[[ 0.77942405 -0.5447664   0.22717355  0.59409383 -0.63777292 -0.20019552\n",
            "   0.75664951 -1.11608268 -1.39571942  1.12954401  0.79193163 -0.19018581\n",
            "   1.56078382 -0.34804056 -0.51947654  0.34361758  0.68716275 -0.60147962\n",
            "   0.34530706 -1.83135804  1.75205065]\n",
            " [ 0.99750652  0.41905928  0.70815175 -1.29644138 -0.65811661  0.40324834\n",
            "  -0.78136429 -0.16314317 -0.35838353  0.92419131  0.41738494 -0.15944369\n",
            "  -1.08887915  0.64338205  1.18258801  0.48246594  0.01632081 -0.26584932\n",
            "  -0.24767928 -1.86249908 -0.9473074 ]\n",
            " [-0.47829439  0.00460648 -0.18498544  1.39270217  0.79073886  0.72505422\n",
            "  -0.02190661  0.21582472  0.81035567 -0.17452939  1.79122501 -0.92171868\n",
            "   0.88993964 -1.54791818  1.55267188  2.05724112  1.66350267 -1.38364658\n",
            "   1.74141077  0.72708626  1.89934343]\n",
            " [ 1.44364385  0.70731877  1.14642054  0.2268795   0.67192377 -0.71723145\n",
            "   0.78082798  0.34902845  1.43087467 -0.68856788  0.04749105 -0.45533983\n",
            "  -0.831893    1.03428735  1.08013452  2.09531004  1.29605352  0.28508948\n",
            "   0.16534466  0.20128241 -0.44225822]\n",
            " [ 0.08936814  0.14344596  0.03836343 -0.04565735  0.41289908  0.84868561\n",
            "  -0.90376036  0.74334289 -0.83693099 -0.41110867  0.56020209  1.41937382\n",
            "   0.86395856  1.44317215 -0.55285885 -1.34307115 -0.63756483 -0.38301313\n",
            "  -2.19202505  1.27942276  0.01084136]\n",
            " [ 0.23930927 -0.4810966   1.82289591 -0.562696    2.18684351  0.69616348\n",
            "   1.758748    0.60474586 -1.55437645 -1.64341855  0.6894564   0.13985083\n",
            "   0.15604982 -1.24759112  1.32191373  1.41443199  1.24631316 -0.28843145\n",
            "  -0.08540546  0.42766786  0.19592648]\n",
            " [-0.03954209  0.44816688  1.04965388  1.41869545  1.4479963  -0.13463759\n",
            "  -1.15111702 -0.48798007 -2.19136443  0.04147594  0.07455483  0.36546415\n",
            "  -0.87751572  0.16649853 -0.54444719 -0.29567352  0.49683253 -0.22662645\n",
            "  -1.12393196 -0.29145547 -0.42502314]\n",
            " [ 0.74106943  0.26071384 -0.24370519 -0.17848519  1.25868933 -0.70882357\n",
            "  -0.89220183 -1.10943733 -2.86468232 -1.70829197  0.47513417  0.79502784\n",
            "  -0.76805143  0.84936275  1.14504329 -0.40235055  0.87414456 -1.33968231\n",
            "   0.10850206  1.48771506  0.40295668]\n",
            " [-0.5173343   0.46957328 -0.30315811  0.75654998  0.02769363 -0.89658032\n",
            "   0.85742007  0.68219193  1.01619731 -1.3987652   0.4178608  -1.46091482\n",
            "  -0.55410679 -0.5865965  -0.99529693 -1.77792617 -0.39753493  0.56797883\n",
            "  -0.69815563 -0.32193953  0.56524196]\n",
            " [ 0.68418158 -1.36981095  0.86782029 -0.14759615 -0.01040862 -0.74396387\n",
            "   2.60325496 -0.57190332  0.08913947 -0.51065365 -0.17703313 -1.2064402\n",
            "  -0.760018    0.1831017   0.29698506  1.06732489  0.40629782 -1.76873191\n",
            "   0.21799158  0.16585415  0.79599616]]\n"
          ]
        }
      ]
    },
    {
      "cell_type": "code",
      "source": [
        "b = np.random.randn(10)\n",
        "\n",
        "print(b)"
      ],
      "metadata": {
        "colab": {
          "base_uri": "https://localhost:8080/"
        },
        "id": "p4G_odYPWhz-",
        "outputId": "5bd327a8-3bcd-4d30-effa-4411a8900bf1"
      },
      "execution_count": 42,
      "outputs": [
        {
          "output_type": "stream",
          "name": "stdout",
          "text": [
            "[ 1.26334059 -0.06073314 -1.79899862 -0.49930235  0.31338484 -1.5827529\n",
            " -0.05218075 -0.7148157  -0.10763471 -1.2500275 ]\n"
          ]
        }
      ]
    },
    {
      "cell_type": "code",
      "source": [
        "z = w @ x + b\n",
        "\n",
        "print(z)"
      ],
      "metadata": {
        "colab": {
          "base_uri": "https://localhost:8080/"
        },
        "id": "jCSRjAnJWpGY",
        "outputId": "8fe67050-2ca3-43c1-ae6b-38978d273cfb"
      },
      "execution_count": 44,
      "outputs": [
        {
          "output_type": "stream",
          "name": "stdout",
          "text": [
            "[-0.34815175 -1.05630465 -0.91416101  4.34256814  1.7552293  11.32624167\n",
            "  1.66556194  3.5592563  -3.40131204 -1.60398992]\n"
          ]
        }
      ]
    }
  ]
}